{
  "nbformat": 4,
  "nbformat_minor": 0,
  "metadata": {
    "colab": {
      "provenance": [],
      "authorship_tag": "ABX9TyN7VrFkm250z3JRRMDblgyM",
      "include_colab_link": true
    },
    "kernelspec": {
      "name": "python3",
      "display_name": "Python 3"
    },
    "language_info": {
      "name": "python"
    }
  },
  "cells": [
    {
      "cell_type": "markdown",
      "metadata": {
        "id": "view-in-github",
        "colab_type": "text"
      },
      "source": [
        "<a href=\"https://colab.research.google.com/github/HeshanNavindu-7/vehical_scraper/blob/main/convert_correct_format.ipynb\" target=\"_parent\"><img src=\"https://colab.research.google.com/assets/colab-badge.svg\" alt=\"Open In Colab\"/></a>"
      ]
    },
    {
      "cell_type": "code",
      "execution_count": 3,
      "metadata": {
        "colab": {
          "base_uri": "https://localhost:8080/"
        },
        "id": "yEKAhsYN2jjd",
        "outputId": "277e0d91-820c-4895-9b57-48bed8cc7e43"
      },
      "outputs": [
        {
          "output_type": "stream",
          "name": "stdout",
          "text": [
            "✅ Cleaned data saved to cleaned_vehicle_data.csv\n"
          ]
        }
      ],
      "source": [
        "import pandas as pd\n",
        "import re\n",
        "\n",
        "# Load the CSV file\n",
        "df = pd.read_csv('/content/riyasewana_detailed_aug_toyota.csv')  # Replace with actual file path\n",
        "\n",
        "# Function to clean price string and return int or 0\n",
        "def clean_price(price_str):\n",
        "    if not isinstance(price_str, str):\n",
        "        return 0\n",
        "    price_str = price_str.lower()\n",
        "    if 'negotiable' in price_str or 'leasing' in price_str:\n",
        "        return 0\n",
        "    price_digits = re.sub(r'[^\\d]', '', price_str)\n",
        "    return int(price_digits) if price_digits else 0\n",
        "\n",
        "# Function to clean mileage like \"84,000 (km)\"\n",
        "def clean_mileage(mileage_str):\n",
        "    if isinstance(mileage_str, str):\n",
        "        return int(re.sub(r'[^\\d]', '', mileage_str))\n",
        "    return 0\n",
        "\n",
        "# Apply cleaning functions\n",
        "df['price'] = df['Detail Price'].apply(clean_price)\n",
        "df['mileage'] = df['Mileage'].apply(clean_mileage)\n",
        "\n",
        "# Rename and clean columns\n",
        "df['make'] = df['Make'].str.upper()\n",
        "df['model'] = df['Model'].str.upper().str.strip()\n",
        "df['yom'] = df['YOM']\n",
        "df['transmission'] = df['Gear'].str.upper()\n",
        "df['fuel_type'] = df['Fuel Type'].str.upper()\n",
        "df['engine_capacity'] = df['Engine CC']\n",
        "\n",
        "# Final selected columns\n",
        "output_df = df[['make', 'model', 'yom', 'transmission', 'fuel_type', 'engine_capacity', 'mileage', 'price']]\n",
        "\n",
        "# Remove rows with price 0 (invalid)\n",
        "output_df = output_df[output_df['price'] > 0]\n",
        "\n",
        "# Save to new CSV\n",
        "output_df.to_csv('cleaned_vehicle_data.csv', index=False)\n",
        "\n",
        "print(\"✅ Cleaned data saved to cleaned_vehicle_data.csv\")\n"
      ]
    }
  ]
}